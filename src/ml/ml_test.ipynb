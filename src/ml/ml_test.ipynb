{
 "cells": [
  {
   "cell_type": "code",
   "execution_count": 1,
   "id": "440b6ed2",
   "metadata": {},
   "outputs": [],
   "source": [
    "import os"
   ]
  },
  {
   "cell_type": "code",
   "execution_count": 2,
   "id": "85b85590",
   "metadata": {},
   "outputs": [],
   "source": [
    "# Specify the code source directory \n",
    "parent_directory = 'c:/YieldPredictionfromImagery/src' # change to your path\n",
    "\n",
    "# set the default path for the code\n",
    "os.chdir(parent_directory) \n",
    "# %pwd"
   ]
  },
  {
   "cell_type": "code",
   "execution_count": 3,
   "id": "e415bed8",
   "metadata": {},
   "outputs": [],
   "source": [
    "import matplotlib.pyplot as plt\n",
    "import numpy as np\n",
    "import pandas as pd\n",
    "import time\n",
    "# import csv"
   ]
  },
  {
   "cell_type": "markdown",
   "id": "2338a8fd",
   "metadata": {},
   "source": [
    "Import functions from other modules"
   ]
  },
  {
   "cell_type": "code",
   "execution_count": 4,
   "id": "960958f0",
   "metadata": {},
   "outputs": [],
   "source": [
    "# from dataset import select_data_and_yield_list\n",
    "from dl.dl_prediction import select_imglist_yield\n",
    "from ml.ml_predict import ml_predict_yield, prepare_train_test_data"
   ]
  },
  {
   "cell_type": "code",
   "execution_count": 5,
   "id": "894b30f3",
   "metadata": {},
   "outputs": [],
   "source": [
    "from config_constant import crop_var, irrigate_var, CROP_TYPE\n",
    "from plot_utils import plot_distinct_yields"
   ]
  },
  {
   "cell_type": "markdown",
   "id": "0b96ff2a",
   "metadata": {},
   "source": [
    "Specify the path of labeled yield file and weather data"
   ]
  },
  {
   "cell_type": "code",
   "execution_count": 6,
   "id": "64d4f451",
   "metadata": {},
   "outputs": [
    {
     "name": "stdout",
     "output_type": "stream",
     "text": [
      "Directory '../output/DOY186/' already exists.\n"
     ]
    }
   ],
   "source": [
    "# \n",
    "yield_file = 'C:/Corn_Yield/BL2022_Yld_label.csv'\n",
    "weather_file = 'C:/Corn_Yield/CoAgMet ET_VBA_calc_2022.xlsm'\n",
    "# img_path = 'C:/Users/yutzhou/Desktop/Corn_Yield/UAV_Data_Extracted_filled/LIRF20220720_DOY201_extracted_filled'\n",
    "# out_path = '../output/DOY201/'\n",
    "# img_path = 'C:/Users/yutzhou/Desktop/Corn_Yield/UAV_Data_Extracted_filled/LIRF20220926_DOY269_extracted_filled'\n",
    "# out_path = '../output/DOY269/'\n",
    "# doy=269\n",
    "# img_path = 'C:/Users/yutzhou/Desktop/Corn_Yield/UAV_Data_Extracted_filled/LIRF20220916_DOY259_extracted_filled'\n",
    "# out_path = '../output/DOY259/'\n",
    "# doy = 259\n",
    "# img_path = 'C:/Users/yutzhou/Desktop/Corn_Yield/UAV_Data_Extracted_filled/LIRF20220716_DOY197_extracted_filled'\n",
    "# out_path = '../output/DOY197/'\n",
    "# doy = 197\n",
    "# img_path = 'C:/Users/yutzhou/Desktop/Corn_Yield/UAV_Data_Extracted_filled/LIRF20220708_DOY189_extracted_filled'\n",
    "# out_path = '../output/DOY189/'\n",
    "img_path = 'C:/Corn_Yield/UAV_Data_Extracted_filled/LIRF20220705_DOY186_extracted_filled'\n",
    "out_path = '../output/DOY186/'\n",
    "doy = 186\n",
    "# img_path = 'C:/Users/yutzhou/Desktop/Corn_Yield/UAV_Data_Extracted_filled/LIRF20220628_DOY179_extracted_filled'\n",
    "# out_path = '../output/DOY179/'\n",
    "# doy=179\n",
    "# img_path = 'C:/Users/yutzhou/Desktop/Corn_Yield/UAV_Data_Extracted_filled/LIRF20220616_DOY167_extracted_filled'\n",
    "# out_path = '../output/DOY167/'\n",
    "# img_path = 'C:/Users/yutzhou/Desktop/Corn_Yield/UAV_Data_Extracted_filled/LIRF20220610_DOY161_extracted_filled'\n",
    "# out_path = '../output/DOY161/'\n",
    "if not os.path.exists(out_path):\n",
    "    # If it doesn't exist, create the directory and any missing parent directories\n",
    "    os.makedirs(out_path)\n",
    "    print(f\"Directory '{out_path}' created successfully.\")\n",
    "else:\n",
    "    print(f\"Directory '{out_path}' already exists.\")\n",
    "\n",
    "name_tag = img_path[-23:-17]"
   ]
  },
  {
   "cell_type": "code",
   "execution_count": 7,
   "id": "776054ac",
   "metadata": {},
   "outputs": [],
   "source": [
    "suf_name ={'LWIR': 'Thermal'}"
   ]
  },
  {
   "cell_type": "markdown",
   "id": "64e449db",
   "metadata": {},
   "source": [
    "Predict corn yield from drone Image. "
   ]
  },
  {
   "cell_type": "code",
   "execution_count": 8,
   "id": "044aa5a1",
   "metadata": {},
   "outputs": [
    {
     "name": "stdout",
     "output_type": "stream",
     "text": [
      "training time is :  0.39975690841674805\n",
      "predict time is :  0.03338265419006348\n",
      "../output/DOY186/DOY186 Pioneer Ref Lasso   r-squared = 0.22796391125103355, rmse = 2.649228104595925, mae=2.394182383783855 20.433008623144442\n",
      "training time is :  0.4001893997192383\n",
      "predict time is :  0.03344011306762695\n",
      "../output/DOY186/DOY186 Pioneer Ref LR   r-squared = 0.7491178008723696, rmse = 1.5102035146579864, mae=1.192006006063432 10.173105092453532\n",
      "training time is :  0.21663737297058105\n",
      "predict time is :  0.01649308204650879\n",
      "../output/DOY186/DOY186 Pioneer RGB Lasso   r-squared = 0.6929541007773863, rmse = 1.6707143524327703, mae=1.2925393094310862 11.031100652247913\n",
      "training time is :  0.20010638236999512\n",
      "predict time is :  0.019542455673217773\n",
      "../output/DOY186/DOY186 Pioneer RGB LR   r-squared = 0.6931081344170611, rmse = 1.6702952318768611, mae=1.2916421946464405 11.023444278926158\n"
     ]
    }
   ],
   "source": [
    "''''''\n",
    "key_word_list = ['Ref_filled.tif', 'RGB_filled.tif']\n",
    "\n",
    "# key_word_list = ['Ref_filled.tif']\n",
    "# suffix_list_list = [[], ['LWIR_filled.tif']]\n",
    "# key_word_list = ['RGB_filled2.tif']\n",
    "suffix_list_list = [[]]\n",
    "# suffix = ['base', 'lwir']\n",
    "# suffix_list = ['LWIR_filled.tif']\n",
    "# VI_list = ['ndvi',  'evi', 'ndre', 'gndvi']\n",
    "VI_list = []\n",
    "vi_only = False\n",
    "\n",
    "analyze_variety_id=2\n",
    "analyze_irrigation_id=2\n",
    "train_col='TRAIN_75'\n",
    "'''keyword to specify use rgb image or 5-bands image'''\n",
    "for keyword in key_word_list:    \n",
    "    \n",
    "    '''get matching yield and image data'''\n",
    "    img_list, yield_pf = select_imglist_yield(yield_file, img_path, keyword, \n",
    "                                            analyze_variety_id=analyze_variety_id, analyze_irrigation_id=analyze_irrigation_id)\n",
    "    \n",
    "    '''split the data into training and test part'''\n",
    "    for suffix_list in suffix_list_list:\n",
    "        train_images, test_images, train_yields, test_yields= prepare_train_test_data(img_list, yield_pf,train_col=train_col, \n",
    "                            VI_list=VI_list, suffix_list=suffix_list, vi_only=False)\n",
    "        \n",
    "        '''specify the machine learning modes in the 'test_modes', which will be passed to the function 'ml_predict_yield'\n",
    "        the parameters of ml algorithm can be changed inside the 'ml_predict_yield' function\n",
    "        '''\n",
    "        test_modes = ['Lasso', 'LR']\n",
    "        # test_modes = ['Lasso', 'LR', 'GB', 'RF', 'SVR','XGB']\n",
    "        # test_modes = ['Lasso', 'LR', 'RF']\n",
    "        # test_modes = ['Lasso',  'RF', 'GB']\n",
    "        for modelname in test_modes:\n",
    "            \n",
    "            out_name = name_tag + ' ' + CROP_TYPE[crop_var[analyze_variety_id]] + ' ' \n",
    "            if not vi_only:\n",
    "                out_name = out_name + keyword[:3]\n",
    "            for vi_name in VI_list:\n",
    "                out_name = out_name + '+' + vi_name.upper()\n",
    "            for suf in suffix_list:\n",
    "                out_name = out_name + '+' + suf_name[suf[:suf.rfind('_')]]\n",
    "            out_name = out_name + ' '\n",
    "            \n",
    "            cur_time = time.time()\n",
    "            trained_model = ml_predict_yield(train_images, train_yields, test_images, modelname, out_name, out_path)\n",
    "            \n",
    "            training_time = time.time() - cur_time\n",
    "            print('training time is : ', training_time)\n",
    "            \n",
    "            \n",
    "            cur_time = time.time()\n",
    "            pred_yields = trained_model.predict(test_images)\n",
    "            predict_time = time.time() - cur_time\n",
    "            print('predict time is : ', predict_time)\n",
    "            \n",
    "            test_irrigate_data = np.array(yield_pf[yield_pf[train_col] == 0]['Irrigation_int'])\n",
    "            test_variety_data = np.array(yield_pf[yield_pf[train_col] == 0]['Variety_int'])\n",
    "\n",
    "            title = out_name +'('+ modelname +') '\n",
    "            out_name = out_name + modelname +' '\n",
    "\n",
    "\n",
    "            result_df=pd.DataFrame({\n",
    "                'Truth': np.array(test_yields), \n",
    "                'Prediction':np.array(pred_yields),\n",
    "                'Irrigation_int':test_irrigate_data,\n",
    "                'Vriaty_int':test_variety_data\n",
    "            })\n",
    "            csv_file_path = out_path+out_name + '.csv'\n",
    "            result_df.to_csv(csv_file_path, index=False)\n",
    "            \n",
    "            \n",
    "            test_yields = np.array(test_yields)\n",
    "            pred_yields = np.array(pred_yields)\n",
    "            '''plot the results'''\n",
    "            plot_distinct_yields(np.array(test_yields)*0.06277, np.array(pred_yields)*0.06277, test_irrigate_data, test_variety_data, title, out_path+out_name)\n",
    "                        \n",
    "#           \n",
    "            if analyze_variety_id >2:\n",
    "                for var_id in set(test_variety_data):\n",
    "                    \n",
    "                    subtitle = title + str(var_id)\n",
    "                    sub_test_yields = test_yields[test_variety_data == var_id]\n",
    "                    sub_pred_yields = pred_yields[test_variety_data == var_id]\n",
    "                    sub_test_irrigate_data = test_irrigate_data[test_variety_data == var_id]\n",
    "                    sub_test_variety_data = test_variety_data[test_variety_data == var_id]\n",
    "                    plot_distinct_yields(sub_test_yields, sub_pred_yields, \n",
    "                                            sub_test_irrigate_data, sub_test_variety_data, subtitle, out_path+subtitle)\n",
    "    #a"
   ]
  },
  {
   "cell_type": "code",
   "execution_count": null,
   "id": "69cc9b7e",
   "metadata": {},
   "outputs": [],
   "source": []
  },
  {
   "cell_type": "markdown",
   "id": "8ab74488",
   "metadata": {},
   "source": [
    "# Gridsearch"
   ]
  },
  {
   "cell_type": "code",
   "execution_count": null,
   "id": "c60aa774",
   "metadata": {},
   "outputs": [],
   "source": [
    "# param_grid = {\n",
    "#     'n_estimators': [100, 150, 200],\n",
    "#     'max_depth': [None, 10, 20],\n",
    "#     'min_samples_split': [2, 5, 10],\n",
    "#     'min_samples_leaf': [1, 2, 4]\n",
    "# }\n",
    "# MEAN = np.nanmean(train_images,(0,2,3))\n",
    "# STD = np.nanstd(train_images, (0,2,3))\n",
    "# train_images = (train_images- MEAN[None,:,None,None])/STD[None,:,None,None] \n",
    "# train_images = train_images.reshape((train_images.shape[0], -1))\n",
    "# rf_model = RandomForestRegressor(random_state=42)\n",
    "\n",
    "# # Create GridSearchCV instance with the model, parameter grid, and cross-validation\n",
    "# grid_search = GridSearchCV(estimator=rf_model\n",
    "# , param_grid=param_grid, cv=5, scoring='neg_mean_squared_error', n_jobs=-1)\n",
    "\n",
    "# # Perform the grid search on the dataset\n",
    "# grid_search.fit(train_images, train_yields)\n",
    "\n",
    "# # Print the best parameters and corresponding mean squared error\n",
    "# print(\"Best Parameters:\", grid_search.best_params_)\n",
    "# print(\"Best Mean Squared Error:\", -grid_search.best_score_)"
   ]
  },
  {
   "cell_type": "code",
   "execution_count": null,
   "id": "f8e75e3f",
   "metadata": {},
   "outputs": [],
   "source": [
    "# # Initiaze the hyperparameters for each dictionary\n",
    "# param1 = {}\n",
    "# param1['classifier'] = [LinearRegression()]\n",
    "\n",
    "# param2 = {}\n",
    "# param2['classifier__alpha'] = [0.1, 0.3, 0.5, 1]\n",
    "# param2['classifier'] = [Ridge()]\n",
    "\n",
    "# param3 = {}\n",
    "# param3['classifier__alpha'] = [0.2, 0.3, 0.4, 0.5, 0.6]\n",
    "# param3['classifier'] = [Lasso()]\n",
    "\n",
    "# param4 = {}\n",
    "# param4['classifier__n_neighbors'] = [2,5,10,25,50]\n",
    "# param4['classifier'] = [KNeighborsRegressor()]\n",
    "\n",
    "# \"\"\"\n",
    "# param5 = {}\n",
    "# param5['classifier__C'] = [10**-2, 10**-1, 10**0, 10**1, 10**2]\n",
    "# param5['classifier__epsilon'] = [0.0,0.2,0.5,1]\n",
    "# param5['classifier'] = [LinearSVR()]\n",
    "# \"\"\""
   ]
  },
  {
   "cell_type": "code",
   "execution_count": null,
   "id": "09240a4e",
   "metadata": {},
   "outputs": [],
   "source": [
    "# pipeline = pipe = Pipeline(steps=[(\"scaler\", CustomScaler(MEAN,STD)),\n",
    "#                        (\"flatten\", FlattenTransformer()),\n",
    "#                        (\"classifier\", LinearRegression())])\n",
    "# params = [param1, param2, param3, param4] # param5\n",
    "# params = [param1, param2, param3, param4] # param5\n"
   ]
  },
  {
   "cell_type": "code",
   "execution_count": null,
   "id": "ae5137f3",
   "metadata": {},
   "outputs": [],
   "source": [
    "# # Train the grid search model\n",
    "# grid_search = GridSearchCV(pipeline, params, cv=3, scoring='neg_mean_squared_error').fit(train_images,train_yields)"
   ]
  },
  {
   "cell_type": "code",
   "execution_count": null,
   "id": "b56d2326",
   "metadata": {},
   "outputs": [],
   "source": [
    "# # Best performing model and its corresponding hyperparameters\n",
    "# grid_search.best_params_"
   ]
  },
  {
   "cell_type": "code",
   "execution_count": null,
   "id": "f20e0fac",
   "metadata": {},
   "outputs": [],
   "source": [
    "# model = grid_search.best_estimator_\n",
    "# # predict\n",
    "# pred = model.predict(train_images)\n",
    "\n",
    "# # validate mse error\n",
    "# mse = mean_squared_error(train_yields, pred) \n",
    "# rmse = np.sqrt(mse)\n",
    "\n",
    "# print(mse, rmse)"
   ]
  },
  {
   "cell_type": "code",
   "execution_count": null,
   "id": "832c4091",
   "metadata": {},
   "outputs": [],
   "source": [
    "# # model = grid_search.best_estimator_\n",
    "# # predict\n",
    "# pred = model.predict(test_images)\n",
    "\n",
    "# # validate mse error\n",
    "# mse = mean_squared_error(test_yields, pred) \n",
    "# rmse = np.sqrt(mse)\n",
    "\n",
    "# print(mse, rmse)"
   ]
  },
  {
   "cell_type": "code",
   "execution_count": null,
   "id": "b9bf0854",
   "metadata": {},
   "outputs": [],
   "source": [
    "# save_name = 'test'\n",
    "# plot_result(test_yields, pred, save_name)"
   ]
  }
 ],
 "metadata": {
  "kernelspec": {
   "display_name": "Python 3 (ipykernel)",
   "language": "python",
   "name": "python3"
  },
  "language_info": {
   "codemirror_mode": {
    "name": "ipython",
    "version": 3
   },
   "file_extension": ".py",
   "mimetype": "text/x-python",
   "name": "python",
   "nbconvert_exporter": "python",
   "pygments_lexer": "ipython3",
   "version": "3.10.9"
  }
 },
 "nbformat": 4,
 "nbformat_minor": 5
}
