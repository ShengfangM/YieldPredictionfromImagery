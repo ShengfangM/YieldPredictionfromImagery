{
 "cells": [
  {
   "cell_type": "code",
   "execution_count": 1,
   "metadata": {},
   "outputs": [],
   "source": [
    "import os\n",
    "# Specify the code source directory \n",
    "parent_directory = 'c:/YieldPredictionfromImagery/src' # change to your path\n",
    "\n",
    "# set the default path for the code\n",
    "os.chdir(parent_directory) \n",
    "# %pwd"
   ]
  },
  {
   "cell_type": "code",
   "execution_count": 2,
   "metadata": {},
   "outputs": [],
   "source": [
    "import pandas as pd\n",
    "import numpy as np"
   ]
  },
  {
   "cell_type": "code",
   "execution_count": 3,
   "metadata": {},
   "outputs": [],
   "source": [
    "from sklearn.model_selection import train_test_split"
   ]
  },
  {
   "cell_type": "code",
   "execution_count": 4,
   "metadata": {},
   "outputs": [],
   "source": [
    "from dataset import get_imgfilelist_yield, create_metadata\n",
    "from dl.dl_dataset import MixedDataset\n",
    "from dl.train import train_with_cross_validation, train, validate, data_transform"
   ]
  },
  {
   "cell_type": "code",
   "execution_count": 5,
   "metadata": {},
   "outputs": [],
   "source": [
    "from dl.model import ResNetRegression_V00"
   ]
  },
  {
   "cell_type": "code",
   "execution_count": 6,
   "metadata": {},
   "outputs": [],
   "source": [
    "crop_var={\n",
    "    3: 'all',\n",
    "    2: 'P9998',\n",
    "    1: 'CH 192-10',\n",
    "    0: 'DKC 51-91'\n",
    "}\n",
    "\n",
    "crop_var2={\n",
    "    'all': 'all',\n",
    "    'P9998': 'Pioneer',\n",
    "    'CH 192-10': 'CH',\n",
    "    'DKC 51-91': 'DKC'\n",
    "}\n",
    "seed=42\n",
    "\n",
    "irrigate_var={\n",
    "    2: 'All',\n",
    "    0: 'Full',\n",
    "    1: 'Deficit'\n",
    "}\n",
    "yield_file = 'C:/Corn_Yield/BL2022_Yld_label.csv'\n",
    "weather_file = 'C:/Corn_Yield/CoAgMet ET_VBA_calc_2022.xlsm'\n"
   ]
  },
  {
   "cell_type": "code",
   "execution_count": 7,
   "metadata": {},
   "outputs": [],
   "source": [
    "from dl.dl_prediction import predict_yield_from_img, predict_yield_from_img_metadata"
   ]
  },
  {
   "cell_type": "markdown",
   "metadata": {},
   "source": [
    "1. Train deep learning model and show performance metrics"
   ]
  },
  {
   "cell_type": "code",
   "execution_count": 8,
   "metadata": {},
   "outputs": [],
   "source": [
    "yield_file = 'C:/Corn_Yield/BL2022_Yld_label.csv'\n",
    "out_path = '../output/'\n",
    "img_root_path = 'C:/Corn_Yield/UAV_Data_Extracted_filled/'"
   ]
  },
  {
   "cell_type": "code",
   "execution_count": 9,
   "metadata": {},
   "outputs": [
    {
     "name": "stdout",
     "output_type": "stream",
     "text": [
      "2.0.0+cu118\n"
     ]
    }
   ],
   "source": [
    "import torch\n",
    "print(torch.__version__)"
   ]
  },
  {
   "cell_type": "code",
   "execution_count": 10,
   "metadata": {},
   "outputs": [
    {
     "name": "stdout",
     "output_type": "stream",
     "text": [
      "C:/Corn_Yield/UAV_Data_Extracted_filled/LIRF20220705_DOY186_extracted_filled\n",
      "5\n",
      "cuda\n",
      "validation mse is 1341.4791463216145\n",
      "All validation mse is 1341.4791463216145\n",
      "validation mse is 897.735761642456\n",
      "All validation mse is 453.99237696329754\n",
      "validation mse is 778.3810111151802\n",
      "All validation mse is 539.6715100606283\n",
      "validation mse is 682.65403175354\n",
      "All validation mse is 395.4730936686198\n",
      "training time is  :  520.5797696113586\n",
      "validation mse is 20.088303351346546\n",
      "test time is  :  7.663944721221924\n",
      "../output/DOY186 Pioneer   Ref Resnet18   r-squared = 0.8247859163576168, rmse = 20.106335725217622, mae=15.147832792860292 8.114798094320614\n",
      "3\n",
      "cuda\n",
      "validation mse is 1108.4774735768635\n",
      "All validation mse is 1108.4774735768635\n",
      "validation mse is 1613.4903682072957\n",
      "All validation mse is 2118.503262837728\n",
      "validation mse is 1487.1604311201309\n",
      "All validation mse is 1234.5005569458008\n",
      "validation mse is 1541.8773407936096\n",
      "All validation mse is 1706.0280698140461\n",
      "training time is  :  387.5478835105896\n",
      "validation mse is 33.1824453710875\n",
      "test time is  :  8.90407657623291\n",
      "../output/DOY186 Pioneer   RGB Resnet18   r-squared = 0.517610406919423, rmse = 33.36163979835976, mae=26.2433912758273 14.0587650012858\n"
     ]
    }
   ],
   "source": [
    "\n",
    "# path_list = ['LIRF20220720_DOY201_extracted_filled']\n",
    "# path_list = ['LIRF20220716_DOY197_extracted_filled']\n",
    "path_list = ['LIRF20220705_DOY186_extracted_filled']\n",
    "\n",
    "for path_i in path_list:\n",
    "    img_path = img_root_path+path_i\n",
    "    print(img_path)\n",
    "    \n",
    "    \n",
    "    # predict_yield_from_img_metadata(yield_file, img_path, weather_file, out_path, is_save_model=True, key_word_list = ['Ref_filled.tif', 'RGB_filled.tif'], is_test=True)\n",
    "    predict_yield_from_img(yield_file, img_path, out_path, True, True,key_word_list = ['Ref_filled.tif', 'RGB_filled.tif'], resname='resnet18')\n",
    "    "
   ]
  },
  {
   "cell_type": "markdown",
   "metadata": {},
   "source": [
    "2. Predict using trained model parameters"
   ]
  },
  {
   "cell_type": "code",
   "execution_count": null,
   "metadata": {},
   "outputs": [],
   "source": [
    "from dl.model import ResNetRegression_V00, ResNetRegression_V10, ViTRegression_V0\n",
    "from dl.dl_prediction import predict_yield\n",
    "import torch\n",
    "\n",
    "# img_path = 'D:/Corn_Yield/UAV_Data_Extracted_filled/LIRF20220705_DOY186_extracted_filled'\n",
    "img_path = ''\n",
    "\n",
    "trained_parameter_name = \"......\"\n",
    "resname = 'resnet18'\n",
    "in_channel = 3\n",
    "# # num_epochs = 200\n",
    "batch_size = 32\n",
    "\n",
    "# loaded_model = ResNetFNN_V2(in_channel,9,1,resname)\n",
    "loaded_model = ResNetRegression_V00(in_channel, 1, resname)\n",
    "# loaded_model = ViTRegression_V0(in_channel)\n",
    "loaded_model.load_state_dict(torch.load(trained_parameter_name))\n",
    "# loaded_model.to(device)\n",
    "    \n",
    "    \n",
    "predict_yield(yield_file, img_path, out_path, loaded_model, key_word_list=['RGB_filled.tif'])\n",
    "    \n",
    "\n",
    "# test_accuracy, test_prediction = validate(loaded_model, test_dataset,criterion, batch_size = batch_size, is_return_output = True, is_dual_data=True)\n",
    "# test_accuracy = np.sqrt(np.mean(test_accuracy))\n",
    "\n",
    "# print(f'validation rmse is {test_accuracy}')"
   ]
  }
 ],
 "metadata": {
  "kernelspec": {
   "display_name": "tf",
   "language": "python",
   "name": "python3"
  },
  "language_info": {
   "codemirror_mode": {
    "name": "ipython",
    "version": 3
   },
   "file_extension": ".py",
   "mimetype": "text/x-python",
   "name": "python",
   "nbconvert_exporter": "python",
   "pygments_lexer": "ipython3",
   "version": "3.10.9"
  }
 },
 "nbformat": 4,
 "nbformat_minor": 2
}
